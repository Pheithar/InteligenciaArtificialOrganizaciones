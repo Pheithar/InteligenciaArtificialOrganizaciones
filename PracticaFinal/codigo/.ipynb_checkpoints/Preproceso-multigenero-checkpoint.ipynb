{
 "cells": [
  {
   "cell_type": "markdown",
   "metadata": {},
   "source": [
    "# Preproceso para varios géneros"
   ]
  },
  {
   "cell_type": "code",
   "execution_count": null,
   "metadata": {},
   "outputs": [],
   "source": [
    "import pandas as pd\n",
    "from langdetect import detect"
   ]
  },
  {
   "cell_type": "markdown",
   "metadata": {},
   "source": [
    "Cargar los datos en crudo"
   ]
  },
  {
   "cell_type": "code",
   "execution_count": null,
   "metadata": {},
   "outputs": [],
   "source": [
    "data = pd.read_csv(\"./datos/book_data.csv\")"
   ]
  },
  {
   "cell_type": "code",
   "execution_count": null,
   "metadata": {},
   "outputs": [],
   "source": [
    "display(data)"
   ]
  },
  {
   "cell_type": "markdown",
   "metadata": {},
   "source": [
    "Eliminar los caracteres no útiles y las stopwords."
   ]
  },
  {
   "cell_type": "code",
   "execution_count": null,
   "metadata": {},
   "outputs": [],
   "source": [
    "def removeStopWords(text):\n",
    "    \n",
    "    stopwords = []\n",
    "    \n",
    "    with open('datos/stopwords.txt') as f:\n",
    "        for i in f.readlines():\n",
    "            stopwords.append(i[:-1])\n",
    "    \n",
    "    text = text.replace('.', ' ')\n",
    "    text = text.replace(',', ' ')\n",
    "    text = text.replace('-', ' ')\n",
    "    text = text.replace('_', ' ')\n",
    "    text = text.replace('–', ' ')\n",
    "    text = text.replace('•', ' ')\n",
    "    text = text.replace('(', ' ')\n",
    "    text = text.replace(')', ' ')\n",
    "    text = text.replace('[', ' ')\n",
    "    text = text.replace(']', ' ')\n",
    "    text = text.replace(';', ' ')\n",
    "    text = text.replace('{', ' ')\n",
    "    text = text.replace('}', ' ')\n",
    "    text = text.replace('?', ' ')\n",
    "    text = text.replace('!', ' ')\n",
    "    text = text.replace('\"', ' ')\n",
    "    text = text.replace('”', ' ')\n",
    "    text = text.replace('\\n', ' ')\n",
    "    text = text.replace('\\t', ' ')\n",
    "    text = text.replace('\\r', ' ')\n",
    "    text = text.replace('<br>', ' ')\n",
    "    \n",
    "    text = text.lower()\n",
    "    \n",
    "    while '  ' in text:\n",
    "        text = text.replace('  ', ' ')\n",
    "    \n",
    "    splitted_text = text.split()\n",
    "    \n",
    "    new_splitted_text = [word for word in splitted_text if not word in stopwords]\n",
    "    \n",
    "    new_text = ' '.join(new_splitted_text)\n",
    "\n",
    "    \n",
    "    \n",
    "    return new_text"
   ]
  },
  {
   "cell_type": "markdown",
   "metadata": {},
   "source": [
    "Detectar el lenguaje y si tiene o no género. Si tiene, se cogen todos."
   ]
  },
  {
   "cell_type": "code",
   "execution_count": null,
   "metadata": {},
   "outputs": [],
   "source": [
    "newData = []\n",
    "test = data[[\"book_desc\", \"genres\"]]\n",
    "\n",
    "for desc, genres in data[[\"book_desc\", \"genres\"]].values:\n",
    "    try:\n",
    "        if detect(desc) == 'en' and type(genres) == type(''):\n",
    "            desc = removeStopWords(desc)\n",
    "            newData.append([desc, genres])\n",
    "            \n",
    "    except:\n",
    "        pass"
   ]
  },
  {
   "cell_type": "code",
   "execution_count": null,
   "metadata": {},
   "outputs": [],
   "source": [
    "newData = pd.DataFrame(newData, columns=[\"Description\", \"Genres\"])"
   ]
  },
  {
   "cell_type": "code",
   "execution_count": null,
   "metadata": {},
   "outputs": [],
   "source": [
    "newData"
   ]
  },
  {
   "cell_type": "code",
   "execution_count": null,
   "metadata": {},
   "outputs": [],
   "source": [
    "newData.shape"
   ]
  },
  {
   "cell_type": "code",
   "execution_count": null,
   "metadata": {},
   "outputs": [],
   "source": [
    "newData.to_csv(\"./datos/datos_generos.csv\", index=False)"
   ]
  }
 ],
 "metadata": {
  "kernelspec": {
   "display_name": "Python 3",
   "language": "python",
   "name": "python3"
  },
  "language_info": {
   "codemirror_mode": {
    "name": "ipython",
    "version": 3
   },
   "file_extension": ".py",
   "mimetype": "text/x-python",
   "name": "python",
   "nbconvert_exporter": "python",
   "pygments_lexer": "ipython3",
   "version": "3.8.5"
  }
 },
 "nbformat": 4,
 "nbformat_minor": 4
}
