{
 "cells": [
  {
   "cell_type": "code",
   "execution_count": 1,
   "metadata": {},
   "outputs": [],
   "source": [
    "import pandas as pd\n",
    "from langdetect import detect"
   ]
  },
  {
   "cell_type": "code",
   "execution_count": 2,
   "metadata": {},
   "outputs": [],
   "source": [
    "data = pd.read_csv(\"./datos/book_data.csv\")"
   ]
  },
  {
   "cell_type": "code",
   "execution_count": 3,
   "metadata": {},
   "outputs": [
    {
     "data": {
      "text/html": [
       "<div>\n",
       "<style scoped>\n",
       "    .dataframe tbody tr th:only-of-type {\n",
       "        vertical-align: middle;\n",
       "    }\n",
       "\n",
       "    .dataframe tbody tr th {\n",
       "        vertical-align: top;\n",
       "    }\n",
       "\n",
       "    .dataframe thead th {\n",
       "        text-align: right;\n",
       "    }\n",
       "</style>\n",
       "<table border=\"1\" class=\"dataframe\">\n",
       "  <thead>\n",
       "    <tr style=\"text-align: right;\">\n",
       "      <th></th>\n",
       "      <th>book_authors</th>\n",
       "      <th>book_desc</th>\n",
       "      <th>book_edition</th>\n",
       "      <th>book_format</th>\n",
       "      <th>book_isbn</th>\n",
       "      <th>book_pages</th>\n",
       "      <th>book_rating</th>\n",
       "      <th>book_rating_count</th>\n",
       "      <th>book_review_count</th>\n",
       "      <th>book_title</th>\n",
       "      <th>genres</th>\n",
       "      <th>image_url</th>\n",
       "    </tr>\n",
       "  </thead>\n",
       "  <tbody>\n",
       "    <tr>\n",
       "      <th>0</th>\n",
       "      <td>Suzanne Collins</td>\n",
       "      <td>Winning will make you famous. Losing means cer...</td>\n",
       "      <td>NaN</td>\n",
       "      <td>Hardcover</td>\n",
       "      <td>9.78044E+12</td>\n",
       "      <td>374 pages</td>\n",
       "      <td>4.33</td>\n",
       "      <td>5519135</td>\n",
       "      <td>160706</td>\n",
       "      <td>The Hunger Games</td>\n",
       "      <td>Young Adult|Fiction|Science Fiction|Dystopia|F...</td>\n",
       "      <td>https://images.gr-assets.com/books/1447303603l...</td>\n",
       "    </tr>\n",
       "    <tr>\n",
       "      <th>1</th>\n",
       "      <td>J.K. Rowling|Mary GrandPré</td>\n",
       "      <td>There is a door at the end of a silent corrido...</td>\n",
       "      <td>US Edition</td>\n",
       "      <td>Paperback</td>\n",
       "      <td>9.78044E+12</td>\n",
       "      <td>870 pages</td>\n",
       "      <td>4.48</td>\n",
       "      <td>2041594</td>\n",
       "      <td>33264</td>\n",
       "      <td>Harry Potter and the Order of the Phoenix</td>\n",
       "      <td>Fantasy|Young Adult|Fiction</td>\n",
       "      <td>https://images.gr-assets.com/books/1255614970l...</td>\n",
       "    </tr>\n",
       "    <tr>\n",
       "      <th>2</th>\n",
       "      <td>Harper Lee</td>\n",
       "      <td>The unforgettable novel of a childhood in a sl...</td>\n",
       "      <td>50th Anniversary</td>\n",
       "      <td>Paperback</td>\n",
       "      <td>9.78006E+12</td>\n",
       "      <td>324 pages</td>\n",
       "      <td>4.27</td>\n",
       "      <td>3745197</td>\n",
       "      <td>79450</td>\n",
       "      <td>To Kill a Mockingbird</td>\n",
       "      <td>Classics|Fiction|Historical|Historical Fiction...</td>\n",
       "      <td>https://images.gr-assets.com/books/1361975680l...</td>\n",
       "    </tr>\n",
       "    <tr>\n",
       "      <th>3</th>\n",
       "      <td>Jane Austen|Anna Quindlen|Mrs. Oliphant|George...</td>\n",
       "      <td>«È cosa ormai risaputa che a uno scapolo in po...</td>\n",
       "      <td>Modern Library Classics, USA / CAN</td>\n",
       "      <td>Paperback</td>\n",
       "      <td>9.78068E+12</td>\n",
       "      <td>279 pages</td>\n",
       "      <td>4.25</td>\n",
       "      <td>2453620</td>\n",
       "      <td>54322</td>\n",
       "      <td>Pride and Prejudice</td>\n",
       "      <td>Classics|Fiction|Romance</td>\n",
       "      <td>https://images.gr-assets.com/books/1320399351l...</td>\n",
       "    </tr>\n",
       "    <tr>\n",
       "      <th>4</th>\n",
       "      <td>Stephenie Meyer</td>\n",
       "      <td>About three things I was absolutely positive.F...</td>\n",
       "      <td>NaN</td>\n",
       "      <td>Paperback</td>\n",
       "      <td>9.78032E+12</td>\n",
       "      <td>498 pages</td>\n",
       "      <td>3.58</td>\n",
       "      <td>4281268</td>\n",
       "      <td>97991</td>\n",
       "      <td>Twilight</td>\n",
       "      <td>Young Adult|Fantasy|Romance|Paranormal|Vampire...</td>\n",
       "      <td>https://images.gr-assets.com/books/1361039443l...</td>\n",
       "    </tr>\n",
       "    <tr>\n",
       "      <th>...</th>\n",
       "      <td>...</td>\n",
       "      <td>...</td>\n",
       "      <td>...</td>\n",
       "      <td>...</td>\n",
       "      <td>...</td>\n",
       "      <td>...</td>\n",
       "      <td>...</td>\n",
       "      <td>...</td>\n",
       "      <td>...</td>\n",
       "      <td>...</td>\n",
       "      <td>...</td>\n",
       "      <td>...</td>\n",
       "    </tr>\n",
       "    <tr>\n",
       "      <th>54296</th>\n",
       "      <td>Howard Megdal</td>\n",
       "      <td>In this fearless and half-crazy story, Howard ...</td>\n",
       "      <td>NaN</td>\n",
       "      <td>Hardcover</td>\n",
       "      <td>9.78161E+12</td>\n",
       "      <td>256 pages</td>\n",
       "      <td>3.37</td>\n",
       "      <td>27</td>\n",
       "      <td>9</td>\n",
       "      <td>Taking the Field: A Fan's Quest to Run the Tea...</td>\n",
       "      <td>Sports|Baseball|Sports and Games|Sports|Nonfic...</td>\n",
       "      <td>https://images.gr-assets.com/books/1312074392l...</td>\n",
       "    </tr>\n",
       "    <tr>\n",
       "      <th>54297</th>\n",
       "      <td>Howard Megdal</td>\n",
       "      <td>From the icons of the game to the players who ...</td>\n",
       "      <td>NaN</td>\n",
       "      <td>Hardcover</td>\n",
       "      <td>9.78006E+12</td>\n",
       "      <td>256 pages</td>\n",
       "      <td>3.97</td>\n",
       "      <td>34</td>\n",
       "      <td>5</td>\n",
       "      <td>The Baseball Talmud: Koufax, Greenberg, and th...</td>\n",
       "      <td>Nonfiction|Sports and Games|Sports</td>\n",
       "      <td>https://images.gr-assets.com/books/1348841629l...</td>\n",
       "    </tr>\n",
       "    <tr>\n",
       "      <th>54298</th>\n",
       "      <td>Howard Megdal</td>\n",
       "      <td>NaN</td>\n",
       "      <td>NaN</td>\n",
       "      <td>Kindle Edition</td>\n",
       "      <td>NaN</td>\n",
       "      <td>NaN</td>\n",
       "      <td>3.66</td>\n",
       "      <td>32</td>\n",
       "      <td>3</td>\n",
       "      <td>Wilpon's Folly - The Story of a Man, His Fortu...</td>\n",
       "      <td>Sports|Baseball|Abandoned</td>\n",
       "      <td>https://images.gr-assets.com/books/1394277097l...</td>\n",
       "    </tr>\n",
       "    <tr>\n",
       "      <th>54299</th>\n",
       "      <td>Mimi Baird|Eve Claxton</td>\n",
       "      <td>Soon to be a major motion picture, from Brad P...</td>\n",
       "      <td>NaN</td>\n",
       "      <td>Hardcover</td>\n",
       "      <td>9.7808E+12</td>\n",
       "      <td>272 pages</td>\n",
       "      <td>3.82</td>\n",
       "      <td>867</td>\n",
       "      <td>187</td>\n",
       "      <td>He Wanted the Moon: The Madness and Medical Ge...</td>\n",
       "      <td>Nonfiction|Autobiography|Memoir|Biography|Psyc...</td>\n",
       "      <td>https://images.gr-assets.com/books/1403192135l...</td>\n",
       "    </tr>\n",
       "    <tr>\n",
       "      <th>54300</th>\n",
       "      <td>Leah Price</td>\n",
       "      <td>The Anthology and the Rise of the Novel brings...</td>\n",
       "      <td>NaN</td>\n",
       "      <td>Paperback</td>\n",
       "      <td>9.78052E+12</td>\n",
       "      <td>236 pages</td>\n",
       "      <td>3.58</td>\n",
       "      <td>12</td>\n",
       "      <td>3</td>\n",
       "      <td>The Anthology and the Rise of the Novel: From ...</td>\n",
       "      <td>Criticism|Literary Criticism|Philosophy|Theory...</td>\n",
       "      <td>https://images.gr-assets.com/books/1349014225l...</td>\n",
       "    </tr>\n",
       "  </tbody>\n",
       "</table>\n",
       "<p>54301 rows × 12 columns</p>\n",
       "</div>"
      ],
      "text/plain": [
       "                                            book_authors  \\\n",
       "0                                        Suzanne Collins   \n",
       "1                             J.K. Rowling|Mary GrandPré   \n",
       "2                                             Harper Lee   \n",
       "3      Jane Austen|Anna Quindlen|Mrs. Oliphant|George...   \n",
       "4                                        Stephenie Meyer   \n",
       "...                                                  ...   \n",
       "54296                                      Howard Megdal   \n",
       "54297                                      Howard Megdal   \n",
       "54298                                      Howard Megdal   \n",
       "54299                             Mimi Baird|Eve Claxton   \n",
       "54300                                         Leah Price   \n",
       "\n",
       "                                               book_desc  \\\n",
       "0      Winning will make you famous. Losing means cer...   \n",
       "1      There is a door at the end of a silent corrido...   \n",
       "2      The unforgettable novel of a childhood in a sl...   \n",
       "3      «È cosa ormai risaputa che a uno scapolo in po...   \n",
       "4      About three things I was absolutely positive.F...   \n",
       "...                                                  ...   \n",
       "54296  In this fearless and half-crazy story, Howard ...   \n",
       "54297  From the icons of the game to the players who ...   \n",
       "54298                                                NaN   \n",
       "54299  Soon to be a major motion picture, from Brad P...   \n",
       "54300  The Anthology and the Rise of the Novel brings...   \n",
       "\n",
       "                             book_edition     book_format    book_isbn  \\\n",
       "0                                     NaN       Hardcover  9.78044E+12   \n",
       "1                              US Edition       Paperback  9.78044E+12   \n",
       "2                        50th Anniversary       Paperback  9.78006E+12   \n",
       "3      Modern Library Classics, USA / CAN       Paperback  9.78068E+12   \n",
       "4                                     NaN       Paperback  9.78032E+12   \n",
       "...                                   ...             ...          ...   \n",
       "54296                                 NaN       Hardcover  9.78161E+12   \n",
       "54297                                 NaN       Hardcover  9.78006E+12   \n",
       "54298                                 NaN  Kindle Edition          NaN   \n",
       "54299                                 NaN       Hardcover   9.7808E+12   \n",
       "54300                                 NaN       Paperback  9.78052E+12   \n",
       "\n",
       "      book_pages  book_rating  book_rating_count  book_review_count  \\\n",
       "0      374 pages         4.33            5519135             160706   \n",
       "1      870 pages         4.48            2041594              33264   \n",
       "2      324 pages         4.27            3745197              79450   \n",
       "3      279 pages         4.25            2453620              54322   \n",
       "4      498 pages         3.58            4281268              97991   \n",
       "...          ...          ...                ...                ...   \n",
       "54296  256 pages         3.37                 27                  9   \n",
       "54297  256 pages         3.97                 34                  5   \n",
       "54298        NaN         3.66                 32                  3   \n",
       "54299  272 pages         3.82                867                187   \n",
       "54300  236 pages         3.58                 12                  3   \n",
       "\n",
       "                                              book_title  \\\n",
       "0                                       The Hunger Games   \n",
       "1              Harry Potter and the Order of the Phoenix   \n",
       "2                                  To Kill a Mockingbird   \n",
       "3                                    Pride and Prejudice   \n",
       "4                                               Twilight   \n",
       "...                                                  ...   \n",
       "54296  Taking the Field: A Fan's Quest to Run the Tea...   \n",
       "54297  The Baseball Talmud: Koufax, Greenberg, and th...   \n",
       "54298  Wilpon's Folly - The Story of a Man, His Fortu...   \n",
       "54299  He Wanted the Moon: The Madness and Medical Ge...   \n",
       "54300  The Anthology and the Rise of the Novel: From ...   \n",
       "\n",
       "                                                  genres  \\\n",
       "0      Young Adult|Fiction|Science Fiction|Dystopia|F...   \n",
       "1                            Fantasy|Young Adult|Fiction   \n",
       "2      Classics|Fiction|Historical|Historical Fiction...   \n",
       "3                               Classics|Fiction|Romance   \n",
       "4      Young Adult|Fantasy|Romance|Paranormal|Vampire...   \n",
       "...                                                  ...   \n",
       "54296  Sports|Baseball|Sports and Games|Sports|Nonfic...   \n",
       "54297                 Nonfiction|Sports and Games|Sports   \n",
       "54298                          Sports|Baseball|Abandoned   \n",
       "54299  Nonfiction|Autobiography|Memoir|Biography|Psyc...   \n",
       "54300  Criticism|Literary Criticism|Philosophy|Theory...   \n",
       "\n",
       "                                               image_url  \n",
       "0      https://images.gr-assets.com/books/1447303603l...  \n",
       "1      https://images.gr-assets.com/books/1255614970l...  \n",
       "2      https://images.gr-assets.com/books/1361975680l...  \n",
       "3      https://images.gr-assets.com/books/1320399351l...  \n",
       "4      https://images.gr-assets.com/books/1361039443l...  \n",
       "...                                                  ...  \n",
       "54296  https://images.gr-assets.com/books/1312074392l...  \n",
       "54297  https://images.gr-assets.com/books/1348841629l...  \n",
       "54298  https://images.gr-assets.com/books/1394277097l...  \n",
       "54299  https://images.gr-assets.com/books/1403192135l...  \n",
       "54300  https://images.gr-assets.com/books/1349014225l...  \n",
       "\n",
       "[54301 rows x 12 columns]"
      ]
     },
     "metadata": {},
     "output_type": "display_data"
    }
   ],
   "source": [
    "display(data)"
   ]
  },
  {
   "cell_type": "code",
   "execution_count": 4,
   "metadata": {},
   "outputs": [],
   "source": [
    "newData = []\n",
    "test = data[[\"book_desc\", \"genres\"]]\n",
    "\n",
    "for desc, genres in data[[\"book_desc\", \"genres\"]].values:\n",
    "    try:\n",
    "        if detect(desc) == 'en':\n",
    "            desc = desc.replace('\\n', ' ')\n",
    "            desc = desc.replace('\\t', ' ')\n",
    "            desc = desc.replace('\\r', ' ')\n",
    "            desc = desc.replace('<br>', ' ')\n",
    "            while '  ' in desc:\n",
    "                desc = desc.replace('  ', ' ')\n",
    "            desc = desc.lower()\n",
    "            newData.append([desc, genres.split('|')[0]])\n",
    "            \n",
    "    except:\n",
    "        pass"
   ]
  },
  {
   "cell_type": "code",
   "execution_count": 5,
   "metadata": {},
   "outputs": [],
   "source": [
    "newData = pd.DataFrame(newData, columns=[\"Description\", \"Main Genre\"])"
   ]
  },
  {
   "cell_type": "code",
   "execution_count": 13,
   "metadata": {},
   "outputs": [
    {
     "data": {
      "text/html": [
       "<div>\n",
       "<style scoped>\n",
       "    .dataframe tbody tr th:only-of-type {\n",
       "        vertical-align: middle;\n",
       "    }\n",
       "\n",
       "    .dataframe tbody tr th {\n",
       "        vertical-align: top;\n",
       "    }\n",
       "\n",
       "    .dataframe thead th {\n",
       "        text-align: right;\n",
       "    }\n",
       "</style>\n",
       "<table border=\"1\" class=\"dataframe\">\n",
       "  <thead>\n",
       "    <tr style=\"text-align: right;\">\n",
       "      <th></th>\n",
       "      <th>Description</th>\n",
       "      <th>Main Genre</th>\n",
       "    </tr>\n",
       "  </thead>\n",
       "  <tbody>\n",
       "    <tr>\n",
       "      <th>0</th>\n",
       "      <td>winning will make you famous. losing means cer...</td>\n",
       "      <td>Young Adult</td>\n",
       "    </tr>\n",
       "    <tr>\n",
       "      <th>1</th>\n",
       "      <td>there is a door at the end of a silent corrido...</td>\n",
       "      <td>Fantasy</td>\n",
       "    </tr>\n",
       "    <tr>\n",
       "      <th>2</th>\n",
       "      <td>the unforgettable novel of a childhood in a sl...</td>\n",
       "      <td>Classics</td>\n",
       "    </tr>\n",
       "    <tr>\n",
       "      <th>3</th>\n",
       "      <td>about three things i was absolutely positive.f...</td>\n",
       "      <td>Young Adult</td>\n",
       "    </tr>\n",
       "    <tr>\n",
       "      <th>4</th>\n",
       "      <td>trying to make sense of the horrors of world w...</td>\n",
       "      <td>Historical</td>\n",
       "    </tr>\n",
       "    <tr>\n",
       "      <th>...</th>\n",
       "      <td>...</td>\n",
       "      <td>...</td>\n",
       "    </tr>\n",
       "    <tr>\n",
       "      <th>43791</th>\n",
       "      <td>avi steinberg is stumped. after defecting from...</td>\n",
       "      <td>Nonfiction</td>\n",
       "    </tr>\n",
       "    <tr>\n",
       "      <th>43792</th>\n",
       "      <td>in this fearless and half-crazy story, howard ...</td>\n",
       "      <td>Sports</td>\n",
       "    </tr>\n",
       "    <tr>\n",
       "      <th>43793</th>\n",
       "      <td>from the icons of the game to the players who ...</td>\n",
       "      <td>Nonfiction</td>\n",
       "    </tr>\n",
       "    <tr>\n",
       "      <th>43794</th>\n",
       "      <td>soon to be a major motion picture, from brad p...</td>\n",
       "      <td>Nonfiction</td>\n",
       "    </tr>\n",
       "    <tr>\n",
       "      <th>43795</th>\n",
       "      <td>the anthology and the rise of the novel brings...</td>\n",
       "      <td>Criticism</td>\n",
       "    </tr>\n",
       "  </tbody>\n",
       "</table>\n",
       "<p>43796 rows × 2 columns</p>\n",
       "</div>"
      ],
      "text/plain": [
       "                                             Description   Main Genre\n",
       "0      winning will make you famous. losing means cer...  Young Adult\n",
       "1      there is a door at the end of a silent corrido...      Fantasy\n",
       "2      the unforgettable novel of a childhood in a sl...     Classics\n",
       "3      about three things i was absolutely positive.f...  Young Adult\n",
       "4      trying to make sense of the horrors of world w...   Historical\n",
       "...                                                  ...          ...\n",
       "43791  avi steinberg is stumped. after defecting from...   Nonfiction\n",
       "43792  in this fearless and half-crazy story, howard ...       Sports\n",
       "43793  from the icons of the game to the players who ...   Nonfiction\n",
       "43794  soon to be a major motion picture, from brad p...   Nonfiction\n",
       "43795  the anthology and the rise of the novel brings...    Criticism\n",
       "\n",
       "[43796 rows x 2 columns]"
      ]
     },
     "execution_count": 13,
     "metadata": {},
     "output_type": "execute_result"
    }
   ],
   "source": [
    "newData"
   ]
  },
  {
   "cell_type": "code",
   "execution_count": 7,
   "metadata": {},
   "outputs": [
    {
     "data": {
      "text/plain": [
       "(43796, 2)"
      ]
     },
     "execution_count": 7,
     "metadata": {},
     "output_type": "execute_result"
    }
   ],
   "source": [
    "newData.shape"
   ]
  },
  {
   "cell_type": "code",
   "execution_count": 8,
   "metadata": {},
   "outputs": [
    {
     "data": {
      "text/plain": [
       "(194,)"
      ]
     },
     "execution_count": 8,
     "metadata": {},
     "output_type": "execute_result"
    }
   ],
   "source": [
    "newData[\"Main Genre\"].unique().shape"
   ]
  },
  {
   "cell_type": "code",
   "execution_count": 9,
   "metadata": {},
   "outputs": [],
   "source": [
    "newData.to_csv(\"./datos/datos_p1.csv\", index=False)"
   ]
  },
  {
   "cell_type": "code",
   "execution_count": 10,
   "metadata": {},
   "outputs": [],
   "source": [
    "test = pd.read_csv(\"./datos/datos_p1.csv\")"
   ]
  },
  {
   "cell_type": "code",
   "execution_count": 11,
   "metadata": {},
   "outputs": [],
   "source": [
    "for i, j in newData.values:\n",
    "    if \"  \" in i:\n",
    "        print(j)"
   ]
  },
  {
   "cell_type": "code",
   "execution_count": 14,
   "metadata": {},
   "outputs": [],
   "source": [
    "import tensorflow as tf"
   ]
  },
  {
   "cell_type": "code",
   "execution_count": 26,
   "metadata": {},
   "outputs": [],
   "source": [
    "a, b = [], []\n",
    "    \n",
    "for i, j in newData.values:\n",
    "    a.append(i)\n",
    "    b.append(j)"
   ]
  },
  {
   "cell_type": "code",
   "execution_count": 33,
   "metadata": {},
   "outputs": [
    {
     "data": {
      "text/plain": [
       "(43796, 2)"
      ]
     },
     "execution_count": 33,
     "metadata": {},
     "output_type": "execute_result"
    }
   ],
   "source": [
    "newData.shape"
   ]
  },
  {
   "cell_type": "code",
   "execution_count": 40,
   "metadata": {},
   "outputs": [],
   "source": [
    "import numpy as np"
   ]
  },
  {
   "cell_type": "code",
   "execution_count": 41,
   "metadata": {},
   "outputs": [],
   "source": [
    "a = np.array(a)\n",
    "b = np.array(b)"
   ]
  },
  {
   "cell_type": "code",
   "execution_count": 49,
   "metadata": {},
   "outputs": [],
   "source": [
    "docs = tf.data.Dataset.from_tensor_slices([[a], [b]])"
   ]
  },
  {
   "cell_type": "code",
   "execution_count": 57,
   "metadata": {},
   "outputs": [],
   "source": [
    "!pip3 install -q tensorflow-text"
   ]
  },
  {
   "cell_type": "code",
   "execution_count": 58,
   "metadata": {},
   "outputs": [],
   "source": [
    "import tensorflow as tf\n",
    "import tensorflow_text as text"
   ]
  },
  {
   "cell_type": "code",
   "execution_count": 62,
   "metadata": {},
   "outputs": [
    {
     "data": {
      "text/html": [
       "<div>\n",
       "<style scoped>\n",
       "    .dataframe tbody tr th:only-of-type {\n",
       "        vertical-align: middle;\n",
       "    }\n",
       "\n",
       "    .dataframe tbody tr th {\n",
       "        vertical-align: top;\n",
       "    }\n",
       "\n",
       "    .dataframe thead th {\n",
       "        text-align: right;\n",
       "    }\n",
       "</style>\n",
       "<table border=\"1\" class=\"dataframe\">\n",
       "  <thead>\n",
       "    <tr style=\"text-align: right;\">\n",
       "      <th></th>\n",
       "      <th>Description</th>\n",
       "      <th>Main Genre</th>\n",
       "    </tr>\n",
       "  </thead>\n",
       "  <tbody>\n",
       "    <tr>\n",
       "      <th>0</th>\n",
       "      <td>winning will make you famous. losing means cer...</td>\n",
       "      <td>Young Adult</td>\n",
       "    </tr>\n",
       "    <tr>\n",
       "      <th>1</th>\n",
       "      <td>there is a door at the end of a silent corrido...</td>\n",
       "      <td>Fantasy</td>\n",
       "    </tr>\n",
       "    <tr>\n",
       "      <th>2</th>\n",
       "      <td>the unforgettable novel of a childhood in a sl...</td>\n",
       "      <td>Classics</td>\n",
       "    </tr>\n",
       "    <tr>\n",
       "      <th>3</th>\n",
       "      <td>about three things i was absolutely positive.f...</td>\n",
       "      <td>Young Adult</td>\n",
       "    </tr>\n",
       "    <tr>\n",
       "      <th>4</th>\n",
       "      <td>trying to make sense of the horrors of world w...</td>\n",
       "      <td>Historical</td>\n",
       "    </tr>\n",
       "    <tr>\n",
       "      <th>...</th>\n",
       "      <td>...</td>\n",
       "      <td>...</td>\n",
       "    </tr>\n",
       "    <tr>\n",
       "      <th>43791</th>\n",
       "      <td>avi steinberg is stumped. after defecting from...</td>\n",
       "      <td>Nonfiction</td>\n",
       "    </tr>\n",
       "    <tr>\n",
       "      <th>43792</th>\n",
       "      <td>in this fearless and half-crazy story, howard ...</td>\n",
       "      <td>Sports</td>\n",
       "    </tr>\n",
       "    <tr>\n",
       "      <th>43793</th>\n",
       "      <td>from the icons of the game to the players who ...</td>\n",
       "      <td>Nonfiction</td>\n",
       "    </tr>\n",
       "    <tr>\n",
       "      <th>43794</th>\n",
       "      <td>soon to be a major motion picture, from brad p...</td>\n",
       "      <td>Nonfiction</td>\n",
       "    </tr>\n",
       "    <tr>\n",
       "      <th>43795</th>\n",
       "      <td>the anthology and the rise of the novel brings...</td>\n",
       "      <td>Criticism</td>\n",
       "    </tr>\n",
       "  </tbody>\n",
       "</table>\n",
       "<p>43796 rows × 2 columns</p>\n",
       "</div>"
      ],
      "text/plain": [
       "                                             Description   Main Genre\n",
       "0      winning will make you famous. losing means cer...  Young Adult\n",
       "1      there is a door at the end of a silent corrido...      Fantasy\n",
       "2      the unforgettable novel of a childhood in a sl...     Classics\n",
       "3      about three things i was absolutely positive.f...  Young Adult\n",
       "4      trying to make sense of the horrors of world w...   Historical\n",
       "...                                                  ...          ...\n",
       "43791  avi steinberg is stumped. after defecting from...   Nonfiction\n",
       "43792  in this fearless and half-crazy story, howard ...       Sports\n",
       "43793  from the icons of the game to the players who ...   Nonfiction\n",
       "43794  soon to be a major motion picture, from brad p...   Nonfiction\n",
       "43795  the anthology and the rise of the novel brings...    Criticism\n",
       "\n",
       "[43796 rows x 2 columns]"
      ]
     },
     "execution_count": 62,
     "metadata": {},
     "output_type": "execute_result"
    }
   ],
   "source": [
    "newData"
   ]
  },
  {
   "cell_type": "code",
   "execution_count": 84,
   "metadata": {},
   "outputs": [],
   "source": [
    "docs = tf.data.Dataset.from_tensor_slices(newData.values).batch(10)"
   ]
  },
  {
   "cell_type": "code",
   "execution_count": 82,
   "metadata": {},
   "outputs": [
    {
     "data": {
      "text/plain": [
       "<BatchDataset shapes: (None, 2), types: tf.string>"
      ]
     },
     "execution_count": 82,
     "metadata": {},
     "output_type": "execute_result"
    }
   ],
   "source": [
    "docs"
   ]
  },
  {
   "cell_type": "code",
   "execution_count": 83,
   "metadata": {},
   "outputs": [],
   "source": [
    "docs = tf.data.Dataset.from_tensor_slices([['Never tell me the odds.'], [\"It's a trap!\"]])"
   ]
  },
  {
   "cell_type": "code",
   "execution_count": 86,
   "metadata": {},
   "outputs": [
    {
     "name": "stdout",
     "output_type": "stream",
     "text": [
      "tf.Tensor(\n",
      "[[b\"winning will make you famous. losing means certain death.the nation of panem, formed from a post-apocalyptic north america, is a country that consists of a wealthy capitol region surrounded by 12 poorer districts. early in its history, a rebellion led by a 13th district against the capitol resulted in its destruction and the creation of an annual televised event known as the hunger games. in punishment, and as a reminder of the power and grace of the capitol, each district must yield one boy and one girl between the ages of 12 and 18 through a lottery system to participate in the games. the 'tributes' are chosen during the annual reaping and are forced to fight to the death, leaving only one survivor to claim victory.when 16-year-old katniss's young sister, prim, is selected as district 12's female representative, katniss volunteers to take her place. she and her male counterpart peeta, are pitted against bigger, stronger representatives, some of whom have trained for this their whole lives. , she sees it as a death sentence. but katniss has been close to death before. for her, survival is second nature.\"\n",
      "  b'Young Adult']\n",
      " [b'there is a door at the end of a silent corridor. and it\\xe2\\x80\\x99s haunting harry pottter\\xe2\\x80\\x99s dreams. why else would he be waking in the middle of the night, screaming in terror?harry has a lot on his mind for this, his fifth year at hogwarts: a defense against the dark arts teacher with a personality like poisoned honey; a big surprise on the gryffindor quidditch team; and the looming terror of the ordinary wizarding level exams. but all these things pale next to the growing threat of he-who-must-not-be-named---a threat that neither the magical government nor the authorities at hogwarts can stop.as the grasp of darkness tightens, harry must discover the true depth and strength of his friends, the importance of boundless loyalty, and the shocking price of unbearable sacrifice.his fate depends on them alll.(back cover)'\n",
      "  b'Fantasy']\n",
      " [b'the unforgettable novel of a childhood in a sleepy southern town and the crisis of conscience that rocked it, to kill a mockingbird became both an instant bestseller and a critical success when it was first published in 1960. it went on to win the pulitzer prize in 1961 and was later made into an academy award-winning film, also a classic.compassionate, dramatic, and deeply moving, to kill a mockingbird takes readers to the roots of human behavior - to innocence and experience, kindness and cruelty, love and hatred, humor and pathos. now with over 18 million copies in print and translated into forty languages, this regional story by a young alabama woman claims universal appeal. harper lee always considered her book to be a simple love story. today it is regarded as a masterpiece of american literature.'\n",
      "  b'Classics']\n",
      " [b\"about three things i was absolutely positive.first, edward was a vampire.second, there was a part of him\\xe2\\x80\\x94and i didn't know how dominant that part might be\\xe2\\x80\\x94that thirsted for my blood.and third, i was unconditionally and irrevocably in love with him.in the first book of the twilight saga, internationally bestselling author stephenie meyer introduces bella swan and edward cullen, a pair of star-crossed lovers whose forbidden relationship ripens against the backdrop of small-town suspicion and a mysterious coven of vampires. this is a love story with bite.\"\n",
      "  b'Young Adult']\n",
      " [b'trying to make sense of the horrors of world war ii, death relates the story of liesel--a young german girl whose book-stealing and story-telling talents help sustain her family and the jewish man they are hiding, as well as their neighbors.'\n",
      "  b'Historical']\n",
      " [b'journeys to the end of the world, fantastic creatures, and epic battles between good and evil\\xe2\\x80\\x94what more could any reader ask for in one book? the book that has it all is the lion, the witch and the wardrobe, written in 1949 by clive staples lewis. but lewis did not stop there. six more books followed, and together they became known as the chronicles of narnia.for the past fifty years, the chronicles of narnia have transcended the fantasy genre to become part of the canon of classic literature. each of the seven books is a masterpiece, drawing the reader into a land where magic meets reality, and the result is a fictional world whose scope has fascinated generations.this edition presents all seven books\\xe2\\x80\\x94unabridged\\xe2\\x80\\x94in one impressive volume. the books are presented here in chronlogical order, each chapter graced with an illustration by the original artist, pauline baynes. deceptively simple and direct, the chronicles of narnia continue to captivate fans with adventures, characters, and truths that speak to readers of all ages, even fifty years after they were first published.'\n",
      "  b'Fantasy']\n",
      " [b\"gone with the wind is a novel written by margaret mitchell, first published in 1936. the story is set in clayton county, georgia, and atlanta during the american civil war and reconstruction era. it depicts the struggles of young scarlett o'hara, the daughter of a well-to-do plantation owner, who must use every means at her disposal to claw her way out of the poverty she finds herself in after sherman's march to the sea. a historical novel, the story is a bildungsroman or coming-of-age story, with the title taken from a poem written by ernest dowson.\"\n",
      "  b'Classics']\n",
      " [b\"despite the tumor-shrinking medical miracle that has bought her a few years, hazel has never been anything but terminal, her final chapter inscribed upon diagnosis. but when a gorgeous plot twist named augustus waters suddenly appears at cancer kid support group, hazel's story is about to be completely rewritten.insightful, bold, irreverent, and raw, the fault in our stars is award-winning author john green's most ambitious and heartbreaking work yet, brilliantly exploring the funny, thrilling, and tragic business of being alive and in love.\"\n",
      "  b'Young Adult']\n",
      " [b'seconds before the earth is demolished to make way for a galactic freeway, arthur dent is plucked off the planet by his friend ford prefect, a researcher for the revised edition of the hitchhiker\\'s guide to the galaxy who, for the last fifteen years, has been posing as an out-of-work actor.together this dynamic pair begin a journey through space aided by quotes from the hitchhiker\\'s guide (\"a towel is about the most massively useful thing an interstellar hitchhiker can have\") and a galaxy-full of fellow travelers: zaphod beeblebrox\\xe2\\x80\\x94the two-headed, three-armed ex-hippie and totally out-to-lunch president of the galaxy; trillian, zaphod\\'s girlfriend (formally tricia mcmillan), whom arthur tried to pick up at a cocktail party once upon a time zone; marvin, a paranoid, brilliant, and chronically depressed robot; veet voojagig, a former graduate student who is obsessed with the disappearance of all the ballpoint pens he bought over the years.'\n",
      "  b'Science Fiction']\n",
      " [b'\"once there was a tree...and she loved a little boy.\"so begins a story of unforgettable perception, beautifully written and illustrated by the gifted and versatile shel silverstein.every day the boy would come to the tree to eat her apples, swing from her branches, or slide down her trunk...and the tree was happy. but as the boy grew older he began to want more from the tree, and the tree gave and gave and gave.this is a tender story, touched with sadness, aglow with consolation. shel silverstein has created a moving parable for readers of all ages that offers an affecting interpretation of the gift of giving and a serene acceptance of another\\'s capacity to love in return.'\n",
      "  b'Childrens']], shape=(10, 2), dtype=string)\n",
      "tf.Tensor(\n",
      "[[b\"you can find the redesigned cover of this edition here.this best-selling norton critical edition is based on the 1847 first edition of the novel. for the fourth edition, the editor has collated the 1847 text with several modern editions and has corrected a number of variants, including accidentals. the text is accompanied by entirely new explanitory annotations.new to the fourth edition are twelve of emily bronte's letters regarding the publication of the 1847 edition of wuthering heights as well as the evolution of the 1850 edition, prose and poetry selections by the author, four reviews of the novel, and poetry selections by the author, four reviews of the novel, and edward chitham's insightful and unformative chronology of the creative process behind the beloved work.five major critical interpretations of wuthering heights are included, three of them new to the fourth edition. a stuart daley considers teh mimportance of chronology in the novel. j. hillis miller examines wuthering heights's problems of genre and critical reputation. sandra m. gilbert asseses the role of victorian christianity plays in the novel, while martha nussbaum traces the novel's romanticism. finally, lin haire-sargeant scrutinizes the role of heathcliff in film adaptations of wuthering heights. a chronology and updated selected bibliography are also included.(back cover)\"\n",
      "  b'Classics']\n",
      " [b'an ingenious code hidden in the works of leonardo da vinci.a desperate race through the cathedrals and castles of europe.an astonishing truth concealed for centuries . . . unveiled at last.while in paris, harvard symbologist robert langdon is awakened by a phone call in the dead of the night. the elderly curator of the louvre has been murdered inside the museum, his body covered in baffling symbols. as langdon and gifted french cryptologist sophie neveu sort through the bizarre riddles, they are stunned to discover a trail of clues hidden in the works of leonardo da vinci\\xe2\\x80\\x94clues visible for all to see and yet ingeniously disguised by the painter.even more startling, the late curator was involved in the priory of sion\\xe2\\x80\\x94a secret society whose members included sir isaac newton, victor hugo, and da vinci\\xe2\\x80\\x94and he guarded a breathtaking historical secret. unless langdon and neveu can decipher the labyrinthine puzzle\\xe2\\x80\\x94while avoiding the faceless adversary who shadows their every move\\xe2\\x80\\x94the explosive, ancient truth will be lost forever.'\n",
      "  b'Fiction']\n",
      " [b\"a literary sensation and runaway bestseller, this brilliant debut novel presents with seamless authenticity and exquisite lyricism the true confessions of one of japan's most celebrated geisha.in memoirs of a geisha, we enter a world where appearances are paramount; where a girl's virginity is auctioned to the highest bidder; where women are trained to beguile the most powerful men; and where love is scorned as illusion. it is a unique and triumphant work of fiction - at once romantic, erotic, suspenseful - and completely unforgettable.\"\n",
      "  b'Fiction']\n",
      " [b'\" i can\\'t explain myself, i\\'m afraid, sir,\" said alice, \"because i\\'m not myself, you see.\"when alice sees a white rabbit take a watch out of its waistcoat pocket she decides to follow it, and a sequence of most unusual events is set in motion. this mini book contains the entire topsy-turvy stories of alice\\'s adventures in wonderland and through the looking-glass, accompanied by practical notes and martina pelouso\\'s memorable full-colour illustrations.'\n",
      "  b'Classics']\n",
      " [b'\\xef\\xbb\\xbfwritten in his distinctively dazzling manner, oscar wilde\\xe2\\x80\\x99s story of a fashionable young man who sells his soul for eternal youth and beauty is the author\\xe2\\x80\\x99s most popular work. the tale of dorian gray\\xe2\\x80\\x99s moral disintegration caused a scandal when it \\xef\\xac\\x81rst appeared in 1890, but though wilde was attacked for the novel\\xe2\\x80\\x99s corrupting in\\xef\\xac\\x82uence, he responded that there is, in fact, \\xe2\\x80\\x9ca terrible moral in dorian gray.\\xe2\\x80\\x9d just a few years later, the book and the aesthetic/moral dilemma it presented became issues in the trials occasioned by wilde\\xe2\\x80\\x99s homosexual liaisons, which resulted in his imprisonment. of dorian gray\\xe2\\x80\\x99s relationship to autobiography, wilde noted in a letter, \\xe2\\x80\\x9cbasil hallward is what i think i am: lord henry what the world thinks me: dorian what i would like to be\\xe2\\x80\\x94in other ages, perhaps.\\xe2\\x80\\x9d'\n",
      "  b'Fiction']\n",
      " [b'introducing one of the most famous characters in literature, jean valjean\\xe2\\x80\\x94the noble peasant imprisoned for stealing a loaf of bread\\xe2\\x80\\x94les mis\\xc3\\xa9rables ranks among the greatest novels of all time. in it, victor hugo takes readers deep into the parisian underworld, immerses them in a battle between good and evil, and carries them to the barricades during the uprising of 1832 with a breathtaking realism that is unsurpassed in modern prose. within his dramatic story are themes that capture the intellect and the emotions: crime and punishment, the relentless persecution of valjean by inspector javert, the desperation of the prostitute fantine, the amorality of the rogue th\\xc3\\xa9nardier, and the universal desire to escape the prisons of our own minds. les mis\\xc3\\xa9rables gave victor hugo a canvas upon which he portrayed his criticism of the french political and judicial systems, but the portrait that resulted is larger than life, epic in scope\\xe2\\x80\\x94an extravagant spectacle that dazzles the senses even as it touches the heart.'\n",
      "  b'Classics']\n",
      " [b\"in beatrice prior's dystopian chicago world, society is divided into five factions, each dedicated to the cultivation of a particular virtue\\xe2\\x80\\x94candor (the honest), abnegation (the selfless), dauntless (the brave), amity (the peaceful), and erudite (the intelligent). on an appointed day of every year, all sixteen-year-olds must select the faction to which they will devote the rest of their lives. for beatrice, the decision is between staying with her family and being who she really is\\xe2\\x80\\x94she can't have both. so she makes a choice that surprises everyone, including herself.during the highly competitive initiation that follows, beatrice renames herself tris and struggles alongside her fellow initiates to live out the choice they have made. together they must undergo extreme physical tests of endurance and intense psychological simulations, some with devastating consequences. as initiation transforms them all, tris must determine who her friends really are\\xe2\\x80\\x94and where, exactly, a romance with a sometimes fascinating, sometimes exasperating boy fits into the life she's chosen. but tris also has a secret, one she's kept hidden from everyone because she's been warned it can mean death. and as she discovers unrest and growing conflict that threaten to unravel her seemingly perfect society, she also learns that her secret might help her save those she loves . . . or it might destroy her.\"\n",
      "  b'Young Adult']\n",
      " [b'fiery love, shocking twists of fate, and tragic mysteries put a lonely governess in jeopardy in jane eyre orphaned as a child, jane has felt an outcast her whole young life. her courage is tested once again when she arrives at thornfield hall, where she has been hired by the brooding, proud edward rochester to care for his ward ad\\xc3\\xa8le. jane finds herself drawn to his troubled yet kind spirit. she falls in love. hard. but there is a terrifying secret inside the gloomy, forbidding thornfield hall. is rochester hiding from jane? will jane be left heartbroken and exiled once again?'\n",
      "  b'Classics']\n",
      " [b\"in romeo and juliet, shakespeare creates a world of violence and generational conflict in which two young people fall in love and die because of that love. the story is rather extraordinary in that the normal problems faced by young lovers are here so very large. it is not simply that the families of romeo and juliet disapprove of the lover's affection for each other; rather, the montagues and the capulets are on opposite sides in a blood feud and are trying to kill each other on the streets of verona. every time a member of one of the two families dies in the fight, his relatives demand the blood of his killer. because of the feud, if romeo is discovered with juliet by her family, he will be killed. once romeo is banished, the only way that juliet can avoid being married to someone else is to take a potion that apparently kills her, so that she is burried with the bodies of her slain relatives. in this violent, death-filled world, the movement of the story from love at first sight to the union of the lovers in death seems almost inevitable.what is so striking about this play is that despite its extraordinary setting (one perhaps reflecting elizabethan attitudes about hot-blooded italians), it has become the quintessential story of young love. because most young lovers feel that they have to overcome giant obstacles in order to be together, because they feel that they would rather die than be kept apart, and especially because the language shakespeare gives his young lovers is so exquisite, allowing them to say to each other just what we would all say to a lover if we only knew how, it is easy to respond to this play as if it were about all young lovers rather than about a particular couple in a very unusual world. (when the play was rewritten in the eighteen century as the history and fall of caius marius, the violent setting became that of a particularly discordant period in classical rome; when leonard berstein rewrote the play as west side story, he chose the violent world of new york street gangs.)\"\n",
      "  b'Classics']\n",
      " [b'at the dawn of the next world war, a plane crashes on an uncharted island, stranding a group of schoolboys. at first, with no adult supervision, their freedom is something to celebrate; this far from civilization the boys can do anything they want. anything. they attempt to forge their own society, failing, however, in the face of terror, sin and evil. and as order collapses, as strange howls echo in the night, as terror begins its reign, the hope of adventure seems as far from reality as the hope of being rescued. labeled a parable, an allegory, a myth, a morality tale, a parody, a political treatise, even a vision of the apocalypse, lord of the flies is perhaps our most memorable tale about \\xe2\\x80\\x9cthe end of innocence, the darkness of man\\xe2\\x80\\x99s heart.\\xe2\\x80\\x9d'\n",
      "  b'Classics']], shape=(10, 2), dtype=string)\n"
     ]
    }
   ],
   "source": [
    "for i in docs.take(2):\n",
    "    print(i)\n"
   ]
  },
  {
   "cell_type": "code",
   "execution_count": 73,
   "metadata": {},
   "outputs": [
    {
     "data": {
      "text/plain": [
       "<TakeDataset shapes: (2,), types: tf.string>"
      ]
     },
     "execution_count": 73,
     "metadata": {},
     "output_type": "execute_result"
    }
   ],
   "source": [
    "docs.take(1)"
   ]
  }
 ],
 "metadata": {
  "kernelspec": {
   "display_name": "Python 3",
   "language": "python",
   "name": "python3"
  },
  "language_info": {
   "codemirror_mode": {
    "name": "ipython",
    "version": 3
   },
   "file_extension": ".py",
   "mimetype": "text/x-python",
   "name": "python",
   "nbconvert_exporter": "python",
   "pygments_lexer": "ipython3",
   "version": "3.8.5"
  }
 },
 "nbformat": 4,
 "nbformat_minor": 4
}
